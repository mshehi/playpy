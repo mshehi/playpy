{
 "cells": [
  {
   "cell_type": "code",
   "execution_count": 1,
   "metadata": {},
   "outputs": [
    {
     "name": "stdout",
     "output_type": "stream",
     "text": [
      "[2 4 6 8] [[0. 0. 0. 0.]\n",
      " [0. 0. 0. 0.]] [[4 4]\n",
      " [4 4]\n",
      " [4 4]\n",
      " [4 4]\n",
      " [4 4]\n",
      " [4 4]\n",
      " [4 4]] [ 1  4  7 10 13 16 19] [41 29 44] [[2 2 4 5]\n",
      " [6 7 3 2]]\n",
      "-------------------\n",
      "[[2. 4. 6. 8.]\n",
      " [0. 0. 0. 0.]\n",
      " [0. 0. 0. 0.]]\n",
      "-------------------\n",
      "[41 29 44  1  2  3  4  5  6  7]\n",
      "-------------------\n",
      "intersection of n1 & n2\n",
      "[]\n",
      "-------------------\n",
      "diff of n1 & n2\n",
      "[2 4 6 8]\n",
      "-------------------\n",
      "5.0\n",
      "41.0\n",
      "2.23606797749979\n"
     ]
    }
   ],
   "source": [
    "import numpy as np\n",
    "\n",
    "# simple array types\n",
    "n1 = np.array([2,4,6,8])\n",
    "\n",
    "n2 = np.zeros((2,4))\n",
    "\n",
    "n3 = np.full((7,2), (4))\n",
    "\n",
    "n4 = np.arange(1, 21, 3)\n",
    "\n",
    "n5 = np.random.randint(5, 50, 3)\n",
    "\n",
    "n6 = np.array([[2,2,4,5], [6,7,3,2]])\n",
    "\n",
    "print(n1, n2, n3, n4, n5, n6)\n",
    "\n",
    "print(\"-------------------\")\n",
    "\n",
    "# stacking arrays\n",
    "print(np.vstack((n1, n2)))\n",
    "\n",
    "print(\"-------------------\")\n",
    "\n",
    "print(np.hstack((n5, ([1, 2, 3, 4, 5, 6, 7]))))\n",
    "\n",
    "print(\"-------------------\")\n",
    "\n",
    "# joins & diffs\n",
    "\n",
    "print(\"intersection of n1 & n2\"); print(np.intersect1d(n1, n2))\n",
    "\n",
    "print(\"-------------------\")\n",
    "\n",
    "print(\"diff of n1 & n2\"); print(np.setdiff1d(n1, n2))\n",
    "\n",
    "print(\"-------------------\")\n",
    "\n",
    "# math\n",
    "\n",
    "print(np.mean(n1))\n",
    "print(np.median(n5))\n",
    "print(np.std(n1)) #standard deviation of n1"
   ]
  }
 ],
 "metadata": {
  "kernelspec": {
   "display_name": "Python 3",
   "language": "python",
   "name": "python3"
  },
  "language_info": {
   "codemirror_mode": {
    "name": "ipython",
    "version": 3
   },
   "file_extension": ".py",
   "mimetype": "text/x-python",
   "name": "python",
   "nbconvert_exporter": "python",
   "pygments_lexer": "ipython3",
   "version": "3.10.8"
  },
  "orig_nbformat": 4
 },
 "nbformat": 4,
 "nbformat_minor": 2
}
